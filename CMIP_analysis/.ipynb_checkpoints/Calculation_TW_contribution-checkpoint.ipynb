{
 "cells": [
  {
   "cell_type": "code",
   "execution_count": 1,
   "id": "13d6a597",
   "metadata": {},
   "outputs": [
    {
     "name": "stderr",
     "output_type": "stream",
     "text": [
      "/home/estudiantes/anaconda/lib/python3.11/site-packages/pandas/core/arrays/masked.py:60: UserWarning: Pandas requires version '1.3.6' or newer of 'bottleneck' (version '1.3.5' currently installed).\n",
      "  from pandas.core import (\n"
     ]
    }
   ],
   "source": [
    "import xarray as xr\n",
    "import numpy as np\n",
    "import metpy\n",
    "import metpy.calc as mpycalc\n",
    "from metpy.units import units\n",
    "from wetbulb_dj08_spedup import WetBulb\n",
    "import time\n",
    "import glob\n",
    "import pandas as pd"
   ]
  },
  {
   "cell_type": "raw",
   "id": "09e5b6d0",
   "metadata": {},
   "source": [
    "Este script se corrió dos veces, una para cada modelo"
   ]
  },
  {
   "cell_type": "code",
   "execution_count": 2,
   "id": "182793bd",
   "metadata": {},
   "outputs": [],
   "source": [
    "#Archivos de presión modelo GFDL\n",
    "psl_GFDL_histo=glob.glob(\"/home/andreagvc/data/CMIP/psl_day_GFDL-CM4_historical_r1i1p1f1_gr2_*.nc\") #Cambiar si es el otro modelo\n",
    "psl_GFDL_ssp585=glob.glob(\"/home/andreagvc/data/CMIP/psl_day_GFDL-CM4_ssp585_r1i1p1f1_gr2_*.nc\")\n",
    "\n",
    "#Combinando todos los archivos\n",
    "comb_psl_GFDL_histo= xr.open_mfdataset(psl_GFDL_histo, combine='by_coords')\n",
    "comb_psl_GFDL_ssp585= xr.open_mfdataset(psl_GFDL_ssp585, combine='by_coords')\n",
    "\n",
    "#Cortando las coordenadas a México\n",
    "comb_psl_GFDL_histo=comb_psl_GFDL_histo.psl.where(comb_psl_GFDL_histo.psl.time.dt.year>1983,drop=True)\n",
    "comb_psl_GFDL_histo=comb_psl_GFDL_histo.sel(lat=slice(5,37),lon=slice(360-125,360-75))\n",
    "\n",
    "comb_psl_GFDL_ssp585=comb_psl_GFDL_ssp585.psl.where(comb_psl_GFDL_ssp585.psl.time.dt.year>2069,drop=True)\n",
    "comb_psl_GFDL_ssp585=comb_psl_GFDL_ssp585.sel(lat=slice(5,37),lon=slice(360-125,360-75))"
   ]
  },
  {
   "cell_type": "code",
   "execution_count": 3,
   "id": "829b3e44",
   "metadata": {},
   "outputs": [],
   "source": [
    "#Cargando los archivos de humedad y temperatura\n",
    "#HadGEM\n",
    "HadGEM_histo=xr.open_dataset(\"/home/andreagvc/data/CMIP/Results/cal_historical_HADGEM.nc\")\n",
    "HadGEM_ssp585=xr.open_dataset(\"/home/andreagvc/data/CMIP/Results/cal_ssp585_HADGEM.nc\")\n",
    "\n",
    "#GFDL\n",
    "GFDL_histo=xr.open_dataset(\"/home/andreagvc/data/CMIP/Results/cal_historical_GFDL.nc\")\n",
    "GFDL_ssp585=xr.open_dataset(\"/home/andreagvc/data/CMIP/Results/cal_ssp585_GFDL.nc\")\n",
    "\n",
    "#Seleccionando las variables\n",
    "\n",
    "#Histórico, HADGEM\n",
    "Had_TW_histo=HadGEM_histo.Tw\n",
    "Had_T_histo=HadGEM_histo.T\n",
    "Had_q_histo=HadGEM_histo.SH\n",
    "\n",
    "#Histórico, GFDL\n",
    "GFDL_TW_histo=GFDL_histo.Tw\n",
    "GFDL_T_histo=GFDL_histo.T\n",
    "GFDL_q_histo=GFDL_histo.SH\n",
    "\n",
    "#ssp585, HADGEM\n",
    "Had_TW_ssp585=HadGEM_ssp585.Tw\n",
    "Had_T_ssp585=HadGEM_ssp585.T\n",
    "Had_q_ssp585=HadGEM_ssp585.SH\n",
    "\n",
    "#ssp585, GFDL\n",
    "GFDL_TW_ssp585=GFDL_ssp585.Tw.where(GFDL_ssp585.Tw.time.dt.year>2069,drop=True)\n",
    "GFDL_T_ssp585=GFDL_ssp585.T.where(GFDL_ssp585.T.time.dt.year>2069,drop=True)\n",
    "GFDL_q_ssp585=GFDL_ssp585.SH.where(GFDL_ssp585.SH.time.dt.year>2069,drop=True)\n"
   ]
  },
  {
   "cell_type": "code",
   "execution_count": 4,
   "id": "6ec3332b",
   "metadata": {},
   "outputs": [],
   "source": [
    "#TW con qhisto y Tescenario\n",
    "lats=comb_psl_GFDL_histo.lat \n",
    "lons=comb_psl_GFDL_histo.lon \n",
    "temp=GFDL_T_ssp585.mean(\"time\")\n",
    "hum=GFDL_q_histo.mean(\"time\")\n",
    "pres=comb_psl_GFDL_histo.mean(\"time\")"
   ]
  },
  {
   "cell_type": "code",
   "execution_count": 85,
   "id": "2ffc1419",
   "metadata": {},
   "outputs": [],
   "source": [
    "#Calculando TW con qhisto y Tescenario\n",
    "def TW(lats,lons,temp,hum,pres):\n",
    "    \n",
    "    Twb=np.zeros(temp.shape) #Haciendo un array para rellenar los datos, dado que la rutina dos es más rápida, se ocupará ese método para calcular TW\n",
    "    \n",
    "    for ilat,lat in enumerate(lats):\n",
    "        #print(ilat)\n",
    "        for ilon,lon in enumerate(lons):\n",
    "            #print(ilon)\n",
    "            press=pres.isel(lat=ilat,lon=ilon)\n",
    "            t=temp.isel(lat=ilat,lon=ilon)\n",
    "            q=hum.isel(lat=ilat,lon=ilon)\n",
    "    \t\t# checamos si esta coordenada tiene datos o no, si son nulos, no calculamos nada\n",
    "            if press.isnull():\n",
    "                continue\n",
    "            else:\n",
    "    \t\t\t\n",
    "                hs= q.values\n",
    "                \n",
    "                SpecificHumidity=float(hs)\n",
    "                Temperature=float(t.values-273.15)\n",
    "               # print(Temperature)\n",
    "                Pressure=float(press.values)\n",
    "                #print(Temperature,Humidity,Pressure)\n",
    "                Twb[ilat,ilon]=WetBulb(Temperature,Pressure,SpecificHumidity,0)[0]+273.15\n",
    "                \n",
    "            \n",
    "    return Twb"
   ]
  },
  {
   "cell_type": "code",
   "execution_count": 86,
   "id": "5c263edc",
   "metadata": {},
   "outputs": [],
   "source": [
    "#Calculando TW con qhisto y Tescenario\n",
    "T_W=TW(lats,lons,temp,hum,pres)"
   ]
  },
  {
   "cell_type": "code",
   "execution_count": 87,
   "id": "cbb899d1",
   "metadata": {},
   "outputs": [],
   "source": [
    "arrF = xr.DataArray(T_W-273.15, dims=(\"lat\",\"lon\"),   #Haciando un xarray.DataArray para poder encontrar de forma más rápida \n",
    "                                                                    #los datos \n",
    "                   coords={ \"lat\": lats,\n",
    "                \"lon\": lons},\n",
    "                   attrs={\"units\": \"K\"})\n",
    "\n",
    "arrF.to_netcdf(\"twf_qh1.nc\") #Guardando el archivo"
   ]
  },
  {
   "cell_type": "code",
   "execution_count": 92,
   "id": "943c6cc1",
   "metadata": {},
   "outputs": [],
   "source": [
    "#TW con qescenario y Thistórica\n",
    "lats2=comb_psl_GFDL_histo.lat \n",
    "lons2=comb_psl_GFDL_histo.lon \n",
    "\n",
    "temp2=GFDL_T_histo.mean(\"time\")\n",
    "hum2=GFDL_q_ssp585.mean(\"time\")\n",
    "pres2=comb_psl_GFDL_histo.mean(\"time\")"
   ]
  },
  {
   "cell_type": "code",
   "execution_count": 93,
   "id": "f32ffdd0",
   "metadata": {},
   "outputs": [],
   "source": [
    "T_W2=TW(lats2,lons2,temp2,hum2,pres2)"
   ]
  },
  {
   "cell_type": "code",
   "execution_count": 94,
   "id": "575ec2c6",
   "metadata": {},
   "outputs": [],
   "source": [
    "arrF2 = xr.DataArray(T_W2-273.15, dims=( \"lat\",\"lon\"),   #Haciando un xarray.DataArray para poder encontrar de forma más rápida \n",
    "                                                                    #los datos \n",
    "                   coords={\"lat\": lats2,\n",
    "                \"lon\": lons2},\n",
    "                   attrs={\"units\": \"K\"})\n",
    "\n",
    "arrF2.to_netcdf(\"twf_qs1.nc\")"
   ]
  }
 ],
 "metadata": {
  "kernelspec": {
   "display_name": "Python 3 (ipykernel)",
   "language": "python",
   "name": "python3"
  },
  "language_info": {
   "codemirror_mode": {
    "name": "ipython",
    "version": 3
   },
   "file_extension": ".py",
   "mimetype": "text/x-python",
   "name": "python",
   "nbconvert_exporter": "python",
   "pygments_lexer": "ipython3",
   "version": "3.11.5"
  }
 },
 "nbformat": 4,
 "nbformat_minor": 5
}
